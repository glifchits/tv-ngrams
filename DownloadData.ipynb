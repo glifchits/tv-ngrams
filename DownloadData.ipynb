{
 "cells": [
  {
   "cell_type": "markdown",
   "metadata": {},
   "source": [
    "### Downloading data\n",
    "\n",
    "Uncomment the below three lines to retrieve the FOXNEWS and CNN filelists, \n",
    "as well as the [NamesDatabase git repo](https://github.com/smashew/NameDatabases)."
   ]
  },
  {
   "cell_type": "code",
   "execution_count": 1,
   "metadata": {},
   "outputs": [],
   "source": [
    "# !git clone https://github.com/smashew/NameDatabases.git\n",
    "# !wget http://data.gdeltproject.org/gdeltv3/iatv/ngrams/FILELIST-FOXNEWS.TXT\n",
    "# !wget http://data.gdeltproject.org/gdeltv3/iatv/ngrams/FILELIST-CNN.TXT"
   ]
  },
  {
   "cell_type": "code",
   "execution_count": 2,
   "metadata": {},
   "outputs": [],
   "source": [
    "import os\n",
    "\n",
    "with open(\"FILELIST-FOXNEWS.TXT\") as f:\n",
    "    fox_files = f.read().splitlines()\n",
    "    \n",
    "with open(\"FILELIST-CNN.TXT\") as f:\n",
    "    cnn_files = f.read().splitlines()"
   ]
  },
  {
   "cell_type": "markdown",
   "metadata": {},
   "source": [
    "The filelists might contain files that go back as far as 2010. For now let's only download files \n",
    "that are more recent.\n",
    "\n",
    "Only files with dates *after* or on the `since` constant will be downloaded."
   ]
  },
  {
   "cell_type": "code",
   "execution_count": 3,
   "metadata": {},
   "outputs": [],
   "source": [
    "since = '20190401'\n",
    "get_date = lambda f: f[49:57]\n",
    "date_past_since = lambda f: get_date(f) >= since"
   ]
  },
  {
   "cell_type": "markdown",
   "metadata": {},
   "source": [
    "We only download the requested files that are not already present in the `data` folder."
   ]
  },
  {
   "cell_type": "code",
   "execution_count": 4,
   "metadata": {
    "scrolled": true
   },
   "outputs": [
    {
     "name": "stdout",
     "output_type": "stream",
     "text": [
      "done\n"
     ]
    }
   ],
   "source": [
    "fox_to_get = list(filter(date_past_since, fox_files))\n",
    "cnn_to_get = list(filter(date_past_since, cnn_files))\n",
    "\n",
    "for f in fox_to_get + cnn_to_get:\n",
    "    _, fname = os.path.split(f)\n",
    "    if os.path.exists(os.path.join('data', fname)):\n",
    "        continue\n",
    "    print('downloading', f)\n",
    "    os.system(f\"wget -P data {f}\")\n",
    "    \n",
    "print('done')"
   ]
  }
 ],
 "metadata": {
  "kernelspec": {
   "display_name": "Python 3",
   "language": "python",
   "name": "python3"
  },
  "language_info": {
   "codemirror_mode": {
    "name": "ipython",
    "version": 3
   },
   "file_extension": ".py",
   "mimetype": "text/x-python",
   "name": "python",
   "nbconvert_exporter": "python",
   "pygments_lexer": "ipython3",
   "version": "3.6.8"
  }
 },
 "nbformat": 4,
 "nbformat_minor": 2
}
